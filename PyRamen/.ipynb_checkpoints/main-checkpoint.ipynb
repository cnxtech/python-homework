{
 "cells": [
  {
   "cell_type": "code",
   "execution_count": 5,
   "metadata": {},
   "outputs": [],
   "source": [
    "import csv"
   ]
  },
  {
   "cell_type": "code",
   "execution_count": 6,
   "metadata": {},
   "outputs": [],
   "source": [
    "def file_list(filename):\n",
    "    openfile = open(filename, \"r\")\n",
    "    filereader = csv.reader(openfile)\n",
    "    data_list = []\n",
    "    counter = 0\n",
    "    for line in filereader:\n",
    "        if counter == 0:\n",
    "            counter += 1\n",
    "            continue\n",
    "        data_row = line\n",
    "        data_list.append(data_row)\n",
    "        \n",
    "    return data_list"
   ]
  },
  {
   "cell_type": "code",
   "execution_count": 7,
   "metadata": {},
   "outputs": [],
   "source": [
    "menu_data = file_list(\"menu_data.csv\")"
   ]
  },
  {
   "cell_type": "code",
   "execution_count": 8,
   "metadata": {},
   "outputs": [],
   "source": [
    "sales_data = file_list(\"sales_data.csv\")"
   ]
  },
  {
   "cell_type": "code",
   "execution_count": 9,
   "metadata": {},
   "outputs": [
    {
     "name": "stdout",
     "output_type": "stream",
     "text": [
      "{'spicy miso ramen': {'01-count': 9238, '02-revenue': 110856.0, '03-cogs': 46190, '04-profit': 0}, 'tori paitan ramen': {'01-count': 9156, '02-revenue': 119028.0, '03-cogs': 54936, '04-profit': 0}, 'truffle butter ramen': {'01-count': 8982, '02-revenue': 125748.0, '03-cogs': 62874, '04-profit': 0}, 'tonkotsu ramen': {'01-count': 9288, '02-revenue': 120744.0, '03-cogs': 55728, '04-profit': 0}, 'vegetarian spicy miso': {'01-count': 9216, '02-revenue': 110592.0, '03-cogs': 46080, '04-profit': 0}, 'shio ramen': {'01-count': 9180, '02-revenue': 100980.0, '03-cogs': 45900, '04-profit': 0}, 'miso crab ramen': {'01-count': 8890, '02-revenue': 106680.0, '03-cogs': 53340, '04-profit': 0}, 'nagomi shoyu': {'01-count': 9132, '02-revenue': 100452.0, '03-cogs': 45660, '04-profit': 0}, 'soft-shell miso crab ramen': {'01-count': 9130, '02-revenue': 127820.0, '03-cogs': 63910, '04-profit': 0}, 'burnt garlic tonkotsu ramen': {'01-count': 9070, '02-revenue': 126980.0, '03-cogs': 54420, '04-profit': 0}, 'vegetarian curry + king trumpet mushroom ramen': {'01-count': 8824, '02-revenue': 114712.0, '03-cogs': 61768, '04-profit': 0}}\n"
     ]
    }
   ],
   "source": [
    "report = {}\n",
    "counter = 0\n",
    "count = 0\n",
    "revenue = 0\n",
    "cost = 0\n",
    "profit = 0\n",
    "\n",
    "for sale in sales_data:\n",
    "    quantity = int(sale[3])\n",
    "    menu_item = sale[4]\n",
    "    if menu_item not in report:\n",
    "        report[menu_item] = {\n",
    "            \"01-count\": 0,\n",
    "            \"02-revenue\": 0,\n",
    "            \"03-cogs\": 0,\n",
    "            \"04-profit\": 0,\n",
    "            }\n",
    "    for menu in menu_data:\n",
    "        item = menu[0]\n",
    "        price = float(menu[3])\n",
    "        cost = int(menu[4])\n",
    "        if item == menu_item:\n",
    "            report[menu_item][\"01-count\"] += quantity\n",
    "            report[menu_item][\"02-revenue\"] += price * quantity\n",
    "            report[menu_item][\"03-cogs\"] += cost * quantity\n",
    "            report[menu_item][\"04-profit\"] += profit * quantity\n",
    "        else:\n",
    "            print(f\"{menu_item} does not equal {item}! NO MATCH!\")\n",
    "print(report)"
   ]
  },
  {
   "cell_type": "code",
   "execution_count": 10,
   "metadata": {},
   "outputs": [],
   "source": [
    "def write_file(filename, data_dict):\n",
    "\n",
    "    with open(filename, 'w') as f:\n",
    "        print(data_dict, file=f)\n",
    "\n",
    "    return"
   ]
  },
  {
   "cell_type": "code",
   "execution_count": 11,
   "metadata": {},
   "outputs": [],
   "source": [
    "write_file(\"sales_report.txt\", report)"
   ]
  },
  {
   "cell_type": "code",
   "execution_count": null,
   "metadata": {},
   "outputs": [],
   "source": []
  }
 ],
 "metadata": {
  "kernelspec": {
   "display_name": "Python 3.7 (XPython)",
   "language": "python",
   "name": "xpython"
  },
  "language_info": {
   "file_extension": ".py",
   "mimetype": "text/x-python",
   "name": "python",
   "version": "3.7.9"
  }
 },
 "nbformat": 4,
 "nbformat_minor": 4
}
