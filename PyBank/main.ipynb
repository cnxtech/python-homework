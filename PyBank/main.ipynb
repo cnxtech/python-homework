{
 "cells": [
  {
   "cell_type": "code",
   "execution_count": 1,
   "metadata": {},
   "outputs": [],
   "source": [
    "#Import libraries and classes\n",
    "from pathlib import Path\n",
    "import csv"
   ]
  },
  {
   "cell_type": "code",
   "execution_count": 2,
   "metadata": {},
   "outputs": [],
   "source": [
    "#Create function for reading csv file into a dictionary\n",
    "def csv_dict(filepath):\n",
    "    data_dict = {}\n",
    "    counter = 0\n",
    "    with open(csvpath, \"r\") as csvfile:\n",
    "        #print(type(csvfile))\n",
    "        csvreader = csv.reader(csvfile, delimiter = \",\")\n",
    "        #print(type(csvreader))\n",
    "        header = next(csvreader)\n",
    "        counter += 1\n",
    "        for row in csvreader:\n",
    "            col1 = row[0]\n",
    "            col2 = int(row[1])\n",
    "            data_dict[col1] = col2\n",
    "    return data_dict"
   ]
  },
  {
   "cell_type": "code",
   "execution_count": 3,
   "metadata": {},
   "outputs": [],
   "source": [
    "#Create function to caluclate average\n",
    "def calculate_average(data_list):\n",
    "    average = round(sum(data_list)/len(data_list), 2)\n",
    "    return average"
   ]
  },
  {
   "cell_type": "code",
   "execution_count": 21,
   "metadata": {},
   "outputs": [],
   "source": [
    "#Create function to find the sum of dictionary values\n",
    "def sum_value_list(data_dict):    \n",
    "    data_list = list(data_dict.values())\n",
    "    return sum(data_list)"
   ]
  },
  {
   "cell_type": "code",
   "execution_count": 22,
   "metadata": {},
   "outputs": [
    {
     "name": "stdout",
     "output_type": "stream",
     "text": [
      "['Date', 'Profit/Losses']\n",
      "{'Jan-2010': 867884, 'Feb-2010': 984655, 'Mar-2010': 322013, 'Apr-2010': -69417, 'May-2010': 310503, 'Jun-2010': 522857, 'Jul-2010': 1033096, 'Aug-2010': 604885, 'Sep-2010': -216386, 'Oct-2010': 477532, 'Nov-2010': 893810, 'Dec-2010': -80353, 'Jan-2011': 779806, 'Feb-2011': -335203, 'Mar-2011': 697845, 'Apr-2011': 793163, 'May-2011': 485070, 'Jun-2011': 584122, 'Jul-2011': 62729, 'Aug-2011': 668179, 'Sep-2011': 899906, 'Oct-2011': 834719, 'Nov-2011': 132003, 'Dec-2011': 309978, 'Jan-2012': -755566, 'Feb-2012': 1170593, 'Mar-2012': 252788, 'Apr-2012': 1151518, 'May-2012': 817256, 'Jun-2012': 570757, 'Jul-2012': 506702, 'Aug-2012': -1022534, 'Sep-2012': 475062, 'Oct-2012': 779976, 'Nov-2012': 144175, 'Dec-2012': 542494, 'Jan-2013': 359333, 'Feb-2013': 321469, 'Mar-2013': 67780, 'Apr-2013': 471435, 'May-2013': 565603, 'Jun-2013': 872480, 'Jul-2013': 789480, 'Aug-2013': 999942, 'Sep-2013': -1196225, 'Oct-2013': 268997, 'Nov-2013': -687986, 'Dec-2013': 1150461, 'Jan-2014': 682458, 'Feb-2014': 617856, 'Mar-2014': 824098, 'Apr-2014': 581943, 'May-2014': 132864, 'Jun-2014': 448062, 'Jul-2014': 689161, 'Aug-2014': 800701, 'Sep-2014': 1166643, 'Oct-2014': 947333, 'Nov-2014': 578668, 'Dec-2014': 988505, 'Jan-2015': 1139715, 'Feb-2015': 1029471, 'Mar-2015': 687533, 'Apr-2015': -524626, 'May-2015': 158620, 'Jun-2015': 87795, 'Jul-2015': 423389, 'Aug-2015': 840723, 'Sep-2015': 568529, 'Oct-2015': 332067, 'Nov-2015': 989499, 'Dec-2015': 778237, 'Jan-2016': 650000, 'Feb-2016': -1100387, 'Mar-2016': -174946, 'Apr-2016': 757143, 'May-2016': 445709, 'Jun-2016': 712961, 'Jul-2016': -1163797, 'Aug-2016': 569899, 'Sep-2016': 768450, 'Oct-2016': 102685, 'Nov-2016': 795914, 'Dec-2016': 60988, 'Jan-2017': 138230, 'Feb-2017': 671099}\n"
     ]
    }
   ],
   "source": [
    "#Call csv_dict function to create profit/loss dictionary from data.csv\n",
    "csvpath = Path(\"../PyBank/data.csv\") \n",
    "budget_dict = csv_dict(csvpath)"
   ]
  },
  {
   "cell_type": "code",
   "execution_count": 23,
   "metadata": {},
   "outputs": [],
   "source": [
    "#Find the number of months\n",
    "total_months = len(budget_dict)"
   ]
  },
  {
   "cell_type": "code",
   "execution_count": 24,
   "metadata": {},
   "outputs": [],
   "source": [
    "#Find total profit/losses over the period\n",
    "total_pl_data = sum_value_list(budget_dict)"
   ]
  },
  {
   "cell_type": "code",
   "execution_count": 25,
   "metadata": {},
   "outputs": [],
   "source": [
    "#Calculate average of the changes in profit/losses over the period\n",
    "#Find greatest increase in profits (date and amount) over the entire period\n",
    "#Find greatest decrease in losses (date and amount) over the entire period\n",
    "\n",
    "changes = []\n",
    "counter = 0\n",
    "highest_profit = 0\n",
    "high_month = 0\n",
    "lowest_loss = 0\n",
    "low_month = 0\n",
    "\n",
    "for data in pl_data:\n",
    "    change = pl_data[counter + 1] - pl_data[counter]\n",
    "    changes.append(change)\n",
    "    if change > highest_profit:\n",
    "        highest_profit = change\n",
    "        high_month = counter + 1\n",
    "    if change < lowest_loss:\n",
    "        lowest_loss = change\n",
    "        low_month = counter + 1\n",
    "    counter += 1\n",
    "    if counter == len(pl_data) - 1:\n",
    "        break\n",
    "\n",
    "\n",
    "#Idenitfy greatest profit and greatest loss months\n",
    "highest_profit_month = list(budget_dict.keys())[high_month]\n",
    "lowest_loss_month = list(budget_dict.keys())[low_month]"
   ]
  },
  {
   "cell_type": "code",
   "execution_count": 26,
   "metadata": {},
   "outputs": [],
   "source": [
    "#Find average of the changes in P/L over period\n",
    "average_change = calculate_average(changes)"
   ]
  },
  {
   "cell_type": "code",
   "execution_count": 29,
   "metadata": {},
   "outputs": [
    {
     "name": "stdout",
     "output_type": "stream",
     "text": [
      "Financial Analysis\n",
      "------------------------------\n",
      "Total Months: 86\n",
      "Total: $38382578\n",
      "Average Change: $-2315.12\n",
      "Greatest Increase in Profits: Feb-2012 ($1926159)\n",
      "Greatest Decrease in Profits: Sep-2013 ($-2196167)\n"
     ]
    }
   ],
   "source": [
    "#Print findings\n",
    "print(\"Financial Analysis\")\n",
    "print(\"------------------------------\")\n",
    "print(f\"Total Months: {total_months}\")\n",
    "print(f\"Total: ${total_pl_data}\")\n",
    "print(f\"Average Change: ${average_change}\")\n",
    "print(f\"Greatest Increase in Profits: {highest_profit_month} (${highest_profit})\")\n",
    "print(f\"Greatest Decrease in Profits: {lowest_loss_month} (${lowest_loss})\")      "
   ]
  },
  {
   "cell_type": "code",
   "execution_count": null,
   "metadata": {},
   "outputs": [],
   "source": []
  }
 ],
 "metadata": {
  "kernelspec": {
   "display_name": "Python 3.7 (XPython)",
   "language": "python",
   "name": "xpython"
  },
  "language_info": {
   "file_extension": ".py",
   "mimetype": "text/x-python",
   "name": "python",
   "version": "3.7.9"
  }
 },
 "nbformat": 4,
 "nbformat_minor": 4
}
